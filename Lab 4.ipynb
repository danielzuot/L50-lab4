{
 "cells": [
  {
   "cell_type": "markdown",
   "metadata": {},
   "source": [
    "In this lab we will characterize a system with the tools discussed so far in this course. We will characterize Setup #3, a Google cloud machine setup with three VM instances."
   ]
  },
  {
   "cell_type": "code",
   "execution_count": 22,
   "metadata": {
    "collapsed": false
   },
   "outputs": [],
   "source": [
    "# Press Shift+Enter to run this cell\n",
    "crsid='dtz22' #your crsid\n",
    "machA_ip = '35.199.70.158'\n",
    "machB_ip = '35.198.49.127'\n",
    "machC_ip = '35.198.60.103'\n",
    "%matplotlib inline\n",
    "%run ./useful.py\n",
    "%run ./useful1.py\n"
   ]
  },
  {
   "cell_type": "markdown",
   "metadata": {},
   "source": [
    "First run: `source ./setup.sh <crsid>` to setup your directory for storing the experiment data and results.\n",
    "\n",
    "**Experiment 1**\n",
    "\n",
    "Our first step is to check the connectivity of the setup, to test that all three machines are connected properly and can communicate, with the ping tool. We ping each machine 1,000 times from each other ping with interval 0.001 seconds, and plot the CDFs of the RTTs of the six pings."
   ]
  },
  {
   "cell_type": "code",
   "execution_count": 15,
   "metadata": {
    "collapsed": false
   },
   "outputs": [],
   "source": [
    "ssh = ssh_connect(machA_ip)\n",
    "for i in range(10):\n",
    "    with open('./'+crsid+'/pings/exp1_ab_'+str(i),'w+') as f:\n",
    "        output = ssh_cmd('ping ' + machB_ip + ' -c 20 -i 0.2 | grep -e \"ttl\"',ssh)\n",
    "        f.write(output)\n",
    "    with open('./'+crsid+'/pings/exp1_ac_'+str(i),'w+') as f:\n",
    "        output = ssh_cmd('ping ' + machC_ip + ' -c 20 -i 0.2 | grep -e \"ttl\"',ssh)\n",
    "        f.write(output)\n",
    "ssh.close()"
   ]
  },
  {
   "cell_type": "code",
   "execution_count": null,
   "metadata": {
    "collapsed": true
   },
   "outputs": [],
   "source": [
    "ssh = ssh_connect(machB_ip)\n",
    "for i in range(10):\n",
    "    with open('./'+crsid+'/pings/exp1_ba_'+str(i),'w+') as f:\n",
    "        output = ssh_cmd('ping ' + machA_ip + ' -c 20 -i 0.2 | grep -e \"ttl\"',ssh)\n",
    "        f.write(output)\n",
    "    with open('./'+crsid+'/pings/exp1_bc_'+str(i),'w+') as f:\n",
    "        output = ssh_cmd('ping ' + machC_ip + ' -c 20 -i 0.2 | grep -e \"ttl\"',ssh)\n",
    "        f.write(output)\n",
    "ssh.close()"
   ]
  },
  {
   "cell_type": "code",
   "execution_count": null,
   "metadata": {
    "collapsed": true
   },
   "outputs": [],
   "source": [
    "ssh = ssh_connect(machC_ip)\n",
    "for i in range(10):\n",
    "    with open('./'+crsid+'/pings/exp1_ca_'+str(i),'w+') as f:\n",
    "        output = ssh_cmd('ping ' + machA_ip + ' -c 20 -i 0.2 | grep -e \"ttl\"',ssh)\n",
    "        f.write(output)\n",
    "    with open('./'+crsid+'/pings/exp1_cb_'+str(i),'w+') as f:\n",
    "        output = ssh_cmd('ping ' + machB_ip + ' -c 20 -i 0.2 | grep -e \"ttl\"',ssh)\n",
    "        f.write(output)\n",
    "ssh.close()"
   ]
  },
  {
   "cell_type": "code",
   "execution_count": 24,
   "metadata": {
    "collapsed": false
   },
   "outputs": [
    {
     "data": {
      "image/png": "[encoded data removed]",
      "text/plain": [
       "<matplotlib.figure.Figure at 0x10d05bba8>"
      ]
     },
     "metadata": {},
     "output_type": "display_data"
    }
   ],
   "source": [
    "graph1('exp1_ab', crsid, 10.0, 20)"
   ]
  },
  {
   "cell_type": "code",
   "execution_count": null,
   "metadata": {
    "collapsed": true
   },
   "outputs": [],
   "source": [
    "graph1('exp1_ac', crsid, 10.0, 1000)"
   ]
  },
  {
   "cell_type": "code",
   "execution_count": null,
   "metadata": {
    "collapsed": true
   },
   "outputs": [],
   "source": [
    "graph1('exp1_ba', crsid, 10.0, 1000)"
   ]
  },
  {
   "cell_type": "code",
   "execution_count": null,
   "metadata": {
    "collapsed": true
   },
   "outputs": [],
   "source": [
    "graph1('exp1_bc', crsid, 10.0, 1000)"
   ]
  },
  {
   "cell_type": "code",
   "execution_count": null,
   "metadata": {
    "collapsed": true
   },
   "outputs": [],
   "source": [
    "graph1('exp1_ca', crsid, 10.0, 1000)"
   ]
  },
  {
   "cell_type": "code",
   "execution_count": null,
   "metadata": {
    "collapsed": true
   },
   "outputs": [],
   "source": [
    "graph1('exp1_cb', crsid, 10.0, 1000)"
   ]
  },
  {
   "cell_type": "markdown",
   "metadata": {},
   "source": [
    "*Insert some commentary here about the connections, noting any specific abnormalities.*"
   ]
  },
  {
   "cell_type": "markdown",
   "metadata": {},
   "source": [
    "**Experiment 2**\n",
    "\n",
    "Next we investigate noted abnormality and try to understand using `traceroute`."
   ]
  }
 ],
 "metadata": {
  "kernelspec": {
   "display_name": "Python 3",
   "language": "python",
   "name": "python3"
  },
  "language_info": {
   "codemirror_mode": {
    "name": "ipython",
    "version": 3
   },
   "file_extension": ".py",
   "mimetype": "text/x-python",
   "name": "python",
   "nbconvert_exporter": "python",
   "pygments_lexer": "ipython3",
   "version": "3.5.1"
  }
 },
 "nbformat": 4,
 "nbformat_minor": 2
}

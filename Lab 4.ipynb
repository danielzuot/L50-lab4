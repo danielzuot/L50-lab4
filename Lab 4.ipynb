{
 "cells": [
  {
   "cell_type": "markdown",
   "metadata": {},
   "source": [
    "In this lab we will characterize a system with the tools discussed so far in this course. We will characterize Setup #3, a Google cloud machine setup with three VM instances."
   ]
  },
  {
   "cell_type": "code",
   "execution_count": null,
   "metadata": {
    "collapsed": false
   },
   "outputs": [],
   "source": [
    "# Press Shift+Enter to run this cell\n",
    "crsid='dtz22' #your crsid\n",
    "machA_ip = '35.199.70.158'\n",
    "machB_ip = '35.198.49.127'\n",
    "machC_ip = '35.198.60.103'\n",
    "num_pings = 50\n",
    "import numpy as np\n",
    "%matplotlib inline\n",
    "%run ./useful.py\n",
    "%run ./useful1.py\n"
   ]
  },
  {
   "cell_type": "markdown",
   "metadata": {},
   "source": [
    "First run: `source ./setup.sh <crsid>` to setup your directory for storing the experiment data and results.\n",
    "\n",
    "**Experiment 1**\n",
    "\n",
    "Our first step is to check the connectivity of the setup, to test that all three machines are connected properly and can communicate, with the ping tool. We ping each machine 50 times from each other machine with interval 0.2 seconds, the minimum Google cloud allows, repeat this trial 10 times, and plot the CDFs of the average RTTs for all 50 pings, across all 10 trials and between all pairs of machines."
   ]
  },
  {
   "cell_type": "code",
   "execution_count": null,
   "metadata": {
    "collapsed": false
   },
   "outputs": [],
   "source": [
    "ssh = ssh_connect(machA_ip)\n",
    "for i in range(10):\n",
    "    with open('./'+crsid+'/pings/exp1_ab_'+str(i),'w+') as f:\n",
    "        output = ssh_cmd('ping {} -c {} -i 0.2 | grep -e \"ttl\"'.format(machB_ip, num_pings),ssh)\n",
    "        f.write(output)\n",
    "    with open('./'+crsid+'/pings/exp1_ac_'+str(i),'w+') as f:\n",
    "        output = ssh_cmd('ping {} -c {} -i 0.2 | grep -e \"ttl\"'.format(machC_ip, num_pings),ssh)\n",
    "        f.write(output)\n",
    "ssh.close()"
   ]
  },
  {
   "cell_type": "code",
   "execution_count": null,
   "metadata": {
    "collapsed": false
   },
   "outputs": [],
   "source": [
    "ssh = ssh_connect(machB_ip)\n",
    "for i in range(10):\n",
    "    with open('./'+crsid+'/pings/exp1_ba_'+str(i),'w+') as f:\n",
    "        output = ssh_cmd('ping {} -c {} -i 0.2 | grep -e \"ttl\"'.format(machA_ip, num_pings),ssh)\n",
    "        f.write(output)\n",
    "    with open('./'+crsid+'/pings/exp1_bc_'+str(i),'w+') as f:\n",
    "        output = ssh_cmd('ping {} -c {} -i 0.2 | grep -e \"ttl\"'.format(machC_ip, num_pings),ssh)\n",
    "        f.write(output)\n",
    "ssh.close()"
   ]
  },
  {
   "cell_type": "code",
   "execution_count": null,
   "metadata": {
    "collapsed": true
   },
   "outputs": [],
   "source": [
    "ssh = ssh_connect(machC_ip)\n",
    "for i in range(10):\n",
    "    with open('./'+crsid+'/pings/exp1_ca_'+str(i),'w+') as f:\n",
    "        output = ssh_cmd('ping {} -c {} -i 0.2 | grep -e \"ttl\"'.format(machA_ip, num_pings),ssh)\n",
    "        f.write(output)\n",
    "    with open('./'+crsid+'/pings/exp1_cb_'+str(i),'w+') as f:\n",
    "        output = ssh_cmd('ping {} -c {} -i 0.2 | grep -e \"ttl\"'.format(machB_ip, num_pings),ssh)\n",
    "        f.write(output)\n",
    "ssh.close()"
   ]
  },
  {
   "cell_type": "code",
   "execution_count": null,
   "metadata": {
    "collapsed": false
   },
   "outputs": [],
   "source": [
    "graph1('exp1_ab', crsid, 10.0, num_pings)"
   ]
  },
  {
   "cell_type": "code",
   "execution_count": null,
   "metadata": {
    "collapsed": false
   },
   "outputs": [],
   "source": [
    "graph1('exp1_ac', crsid, 10.0, num_pings)"
   ]
  },
  {
   "cell_type": "code",
   "execution_count": null,
   "metadata": {
    "collapsed": false
   },
   "outputs": [],
   "source": [
    "graph1('exp1_ba', crsid, 10.0, num_pings)"
   ]
  },
  {
   "cell_type": "code",
   "execution_count": null,
   "metadata": {
    "collapsed": false
   },
   "outputs": [],
   "source": [
    "graph1('exp1_bc', crsid, 10.0, num_pings)"
   ]
  },
  {
   "cell_type": "code",
   "execution_count": null,
   "metadata": {
    "collapsed": false
   },
   "outputs": [],
   "source": [
    "graph1('exp1_ca', crsid, 10.0, num_pings)"
   ]
  },
  {
   "cell_type": "code",
   "execution_count": null,
   "metadata": {
    "collapsed": false
   },
   "outputs": [],
   "source": [
    "graph1('exp1_cb', crsid, 10.0, num_pings)"
   ]
  },
  {
   "cell_type": "code",
   "execution_count": null,
   "metadata": {
    "collapsed": false
   },
   "outputs": [],
   "source": [
    "np.median(getrtts('exp1_ab', crsid))"
   ]
  },
  {
   "cell_type": "code",
   "execution_count": null,
   "metadata": {
    "collapsed": false
   },
   "outputs": [],
   "source": [
    "np.median(getrtts('exp1_ba', crsid))"
   ]
  },
  {
   "cell_type": "code",
   "execution_count": null,
   "metadata": {
    "collapsed": false
   },
   "outputs": [],
   "source": [
    "np.median(getrtts('exp1_ac', crsid))"
   ]
  },
  {
   "cell_type": "markdown",
   "metadata": {},
   "source": [
    "What do we see? Well, the RTTs between the pairs of machines all show a median RTT of around 450 microseconds. But there seems to consistently, across all 6 connection pairs, be a rather long tail, implying that specific pings take a long time. Let's explore that further, by looking at a single connection, A to B. "
   ]
  },
  {
   "cell_type": "code",
   "execution_count": null,
   "metadata": {
    "collapsed": false
   },
   "outputs": [],
   "source": [
    "graph2('exp1_ab', crsid, 10.0, num_pings)"
   ]
  },
  {
   "cell_type": "markdown",
   "metadata": {},
   "source": [
    "This same shape holds true over all 6 connections. So the first ping of the 50 consistently takes significantly longer than the others. This is probably just due to having to find the correct entry of the other machine in the ARP table, so let's retry those figures ignoring the first ping."
   ]
  },
  {
   "cell_type": "code",
   "execution_count": null,
   "metadata": {
    "collapsed": false
   },
   "outputs": [],
   "source": [
    "graph3('exp1_ab', crsid, 10.0, num_pings-1)"
   ]
  },
  {
   "cell_type": "code",
   "execution_count": null,
   "metadata": {
    "collapsed": false
   },
   "outputs": [],
   "source": [
    "graph3('exp1_ac', crsid, 10.0, num_pings-1)"
   ]
  },
  {
   "cell_type": "code",
   "execution_count": null,
   "metadata": {
    "collapsed": false
   },
   "outputs": [],
   "source": [
    "graph3('exp1_ba', crsid, 10.0, num_pings-1)"
   ]
  },
  {
   "cell_type": "code",
   "execution_count": null,
   "metadata": {
    "collapsed": false
   },
   "outputs": [],
   "source": [
    "graph3('exp1_bc', crsid, 10.0, num_pings-1)"
   ]
  },
  {
   "cell_type": "code",
   "execution_count": null,
   "metadata": {
    "collapsed": false
   },
   "outputs": [],
   "source": [
    "graph3('exp1_ca', crsid, 10.0, num_pings-1)"
   ]
  },
  {
   "cell_type": "code",
   "execution_count": null,
   "metadata": {
    "collapsed": false
   },
   "outputs": [],
   "source": [
    "graph3('exp1_cb', crsid, 10.0, num_pings-1)"
   ]
  },
  {
   "cell_type": "markdown",
   "metadata": {},
   "source": [
    "**Experiment 2**\n",
    "\n",
    "Next we investigate the general topology of the setup using `traceroute`."
   ]
  },
  {
   "cell_type": "code",
   "execution_count": null,
   "metadata": {
    "collapsed": true
   },
   "outputs": [],
   "source": []
  },
  {
   "cell_type": "code",
   "execution_count": null,
   "metadata": {
    "collapsed": true
   },
   "outputs": [],
   "source": []
  }
 ],
 "metadata": {
  "kernelspec": {
   "display_name": "Python 3",
   "language": "python",
   "name": "python3"
  },
  "language_info": {
   "codemirror_mode": {
    "name": "ipython",
    "version": 3
   },
   "file_extension": ".py",
   "mimetype": "text/x-python",
   "name": "python",
   "nbconvert_exporter": "python",
   "pygments_lexer": "ipython3",
   "version": "3.5.1"
  }
 },
 "nbformat": 4,
 "nbformat_minor": 2
}
